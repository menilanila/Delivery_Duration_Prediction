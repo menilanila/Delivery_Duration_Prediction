{
 "cells": [
  {
   "cell_type": "markdown",
   "metadata": {
    "application/vnd.databricks.v1+cell": {
     "cellMetadata": {},
     "inputWidgets": {},
     "nuid": "d65bf491-831f-4570-8400-88c1e9550f14",
     "showTitle": false,
     "tableResultSettingsMap": {},
     "title": ""
    }
   },
   "source": [
    "#Overview of Delivery Duration Prediction \n",
    "\n",
    "This project aims to show the expected time of delivery when a consumer places an order on a e-commerce site, as it has a big impact on consumer experience."
   ]
  },
  {
   "cell_type": "markdown",
   "metadata": {
    "application/vnd.databricks.v1+cell": {
     "cellMetadata": {},
     "inputWidgets": {},
     "nuid": "5d60fc6e-f65d-4245-9dbf-c7179e72a45a",
     "showTitle": false,
     "tableResultSettingsMap": {},
     "title": ""
    }
   },
   "source": [
    "#Data Exploration "
   ]
  },
  {
   "cell_type": "code",
   "execution_count": 0,
   "metadata": {
    "application/vnd.databricks.v1+cell": {
     "cellMetadata": {
      "byteLimit": 2048000,
      "rowLimit": 10000
     },
     "inputWidgets": {},
     "nuid": "b419a4ab-d19b-4ec3-863a-3fbc2bd8ef36",
     "showTitle": false,
     "tableResultSettingsMap": {},
     "title": ""
    }
   },
   "outputs": [],
   "source": [
    "from pyspark.sql import SparkSession\n",
    "from pyspark.sql.functions import to_timestamp,unix_timestamp,col,sum,avg,countDistinct,mean\n",
    "import numpy\n",
    "import matplotlib.pyplot as plt\n",
    "import seaborn as sns\n",
    "import datetime as dt"
   ]
  },
  {
   "cell_type": "code",
   "execution_count": 0,
   "metadata": {
    "application/vnd.databricks.v1+cell": {
     "cellMetadata": {
      "byteLimit": 2048000,
      "rowLimit": 10000
     },
     "inputWidgets": {},
     "nuid": "43406f0d-24b1-49f0-8175-dcdf003ed6b5",
     "showTitle": false,
     "tableResultSettingsMap": {},
     "title": ""
    }
   },
   "outputs": [
    {
     "output_type": "stream",
     "name": "stdout",
     "output_type": "stream",
     "text": [
      "+---------+-------------------+--------------------+--------+----------------------+--------------+-----------+--------+------------------+--------------+--------------+---------------------+------------------+------------------------+------------------------------+--------------------------------------------+\n|market_id|         created_at|actual_delivery_time|store_id|store_primary_category|order_protocol|total_items|subtotal|num_distinct_items|min_item_price|max_item_price|total_onshift_dashers|total_busy_dashers|total_outstanding_orders|estimated_order_place_duration|estimated_store_to_consumer_driving_duration|\n+---------+-------------------+--------------------+--------+----------------------+--------------+-----------+--------+------------------+--------------+--------------+---------------------+------------------+------------------------+------------------------------+--------------------------------------------+\n|        1|2015-02-06 22:24:17| 2015-02-06 23:27:16|    1845|              american|             1|          4|    3441|                 4|           557|          1239|                   33|                14|                      21|                           446|                                         861|\n|        2|2015-02-10 21:49:25| 2015-02-10 22:56:29|    5477|               mexican|             2|          1|    1900|                 1|          1400|          1400|                    1|                 2|                       2|                           446|                                         690|\n|        3|2015-01-22 20:39:28| 2015-01-22 21:09:09|    5477|                    NA|             1|          1|    1900|                 1|          1900|          1900|                    1|                 0|                       0|                           446|                                         690|\n+---------+-------------------+--------------------+--------+----------------------+--------------+-----------+--------+------------------+--------------+--------------+---------------------+------------------+------------------------+------------------------------+--------------------------------------------+\nonly showing top 3 rows\n\n"
     ]
    }
   ],
   "source": [
    "spark=SparkSession.builder.appName(\"DDP\").getOrCreate()\n",
    "file_loc=\"dbfs:/FileStore/tables/historical_data.csv\"\n",
    "df=spark.read.csv(file_loc, header=True, inferSchema=True)\n",
    "df.show(3)"
   ]
  },
  {
   "cell_type": "code",
   "execution_count": 0,
   "metadata": {
    "application/vnd.databricks.v1+cell": {
     "cellMetadata": {
      "byteLimit": 2048000,
      "rowLimit": 10000
     },
     "inputWidgets": {},
     "nuid": "0dda3dac-467a-4bf0-849b-82362d856982",
     "showTitle": false,
     "tableResultSettingsMap": {},
     "title": ""
    }
   },
   "outputs": [
    {
     "output_type": "stream",
     "name": "stdout",
     "output_type": "stream",
     "text": [
      "root\n |-- market_id: string (nullable = true)\n |-- created_at: timestamp (nullable = true)\n |-- actual_delivery_time: timestamp (nullable = true)\n |-- store_id: integer (nullable = true)\n |-- store_primary_category: string (nullable = true)\n |-- order_protocol: string (nullable = true)\n |-- total_items: integer (nullable = true)\n |-- subtotal: integer (nullable = true)\n |-- num_distinct_items: integer (nullable = true)\n |-- min_item_price: integer (nullable = true)\n |-- max_item_price: integer (nullable = true)\n |-- total_onshift_dashers: string (nullable = true)\n |-- total_busy_dashers: string (nullable = true)\n |-- total_outstanding_orders: string (nullable = true)\n |-- estimated_order_place_duration: integer (nullable = true)\n |-- estimated_store_to_consumer_driving_duration: string (nullable = true)\n |-- actual_total_delivery_duration: long (nullable = true)\n |-- estimated_non_prep_duration: double (nullable = true)\n |-- busy_dashers_ratio: double (nullable = true)\n\nOut[38]: 197428"
     ]
    }
   ],
   "source": [
    "df=df.withColumn(\"actual_delivery_time\", to_timestamp(\"actual_delivery_time\",\"yyyy-MM-dd HH:mm:ss\"))\n",
    "df=df.withColumn(\"actual_total_delivery_duration\", unix_timestamp(\"actual_delivery_time\")-unix_timestamp(\"created_at\"))\n",
    "df = df.withColumn(\"estimated_non_prep_duration\",col(\"estimated_store_to_consumer_driving_duration\")+col(\"estimated_order_place_duration\"))\n",
    "df = df.withColumn(\"busy_dashers_ratio\",col(\"total_busy_dashers\")/col(\"total_onshift_dashers\"))\n",
    "df.printSchema()\n",
    "df.count()\n"
   ]
  },
  {
   "cell_type": "code",
   "execution_count": 0,
   "metadata": {
    "application/vnd.databricks.v1+cell": {
     "cellMetadata": {
      "byteLimit": 2048000,
      "rowLimit": 10000
     },
     "inputWidgets": {},
     "nuid": "402e249d-fa03-4d8d-bd99-c65e1c987f52",
     "showTitle": false,
     "tableResultSettingsMap": {},
     "title": ""
    }
   },
   "outputs": [
    {
     "output_type": "stream",
     "name": "stdout",
     "output_type": "stream",
     "text": [
      "# Percentange of missing value % : 0.5442890306179574\n# Average order delivery time in minutes: 48.4709562305935 Minutes\n"
     ]
    }
   ],
   "source": [
    "tot_rows=df.count()\n",
    "null_counts=df.select([sum(col(c).isNull().cast(\"int\")).alias(c+\"_nulls\")for c in df.columns])\n",
    "total_nulls=null_counts.selectExpr(\"+\".join([c+\"_nulls\"for c in df.columns])).collect()[0][0]\n",
    "missing_percent=(total_nulls/(tot_rows*len(df.columns)))*100\n",
    "print(\"# Percentange of missing value % :\", missing_percent)\n",
    "\n",
    "avg_delivery_sec=df.select(avg(\"actual_total_delivery_duration\")).collect()[0][0]\n",
    "avg_delivery_min=avg_delivery_sec/60\n",
    "print(\"# Average order delivery time in minutes:\",avg_delivery_min,\"Minutes\")"
   ]
  },
  {
   "cell_type": "code",
   "execution_count": 0,
   "metadata": {
    "application/vnd.databricks.v1+cell": {
     "cellMetadata": {},
     "inputWidgets": {},
     "nuid": "b6a0fa66-48bc-41f2-9270-206edab22cfa",
     "showTitle": false,
     "tableResultSettingsMap": {},
     "title": ""
    }
   },
   "outputs": [],
   "source": [
    "df.select([countDistinct(col(c)).alias(c) for c in df.columns]).show()"
   ]
  },
  {
   "cell_type": "code",
   "execution_count": 0,
   "metadata": {
    "application/vnd.databricks.v1+cell": {
     "cellMetadata": {
      "byteLimit": 2048000,
      "rowLimit": 10000
     },
     "inputWidgets": {},
     "nuid": "50e9bca0-aa39-4ff7-bcf5-528348a08602",
     "showTitle": false,
     "tableResultSettingsMap": {},
     "title": ""
    }
   },
   "outputs": [
    {
     "output_type": "stream",
     "name": "stdout",
     "output_type": "stream",
     "text": [
      "+-------+------------------+-----------------+----------------------+------------------+------------------+------------------+------------------+-----------------+------------------+---------------------+------------------+------------------------+------------------------------+--------------------------------------------+------------------------------+---------------------------+-------------------+\n|summary|         market_id|         store_id|store_primary_category|    order_protocol|       total_items|          subtotal|num_distinct_items|   min_item_price|    max_item_price|total_onshift_dashers|total_busy_dashers|total_outstanding_orders|estimated_order_place_duration|estimated_store_to_consumer_driving_duration|actual_total_delivery_duration|estimated_non_prep_duration| busy_dashers_ratio|\n+-------+------------------+-----------------+----------------------+------------------+------------------+------------------+------------------+-----------------+------------------+---------------------+------------------+------------------------+------------------------------+--------------------------------------------+------------------------------+---------------------------+-------------------+\n|  count|            197428|           197428|                197428|            197428|            197428|            197428|            197428|           197428|            197428|               197428|            197428|                  197428|                        197428|                                      197428|                        197421|                     197428|             177551|\n|   mean| 2.978706074597462|3530.510272099196|                  null|2.8823517433425137| 3.196390582896043| 2682.331401827502|2.6707913771096297|686.2184695180015|1159.5886297789573|   44.808093130057514|41.739746972389966|        58.0500645816544|             308.5601789006625|                           545.3589349016262|              2908.25737383561|           853.939182943801| 0.9497767478070714|\n| stddev|1.5248667244506275|2053.496711108529|                  null|1.5037712034995818|2.6665460635998746|1823.0936878547886|1.6302552413381575|522.0386476914728| 558.4113766592675|    34.52678347621345|32.145732718031766|      52.661830277164626|             90.13965340722434|                          219.35290205585642|            19229.608945265834|          234.7994237467466|0.40618399297214525|\n|    min|                 1|                1|                    NA|                 1|                 1|                 0|                 1|              -86|                 0|                   -1|                -1|                      -1|                             0|                                           0|                           101|                      153.0|              -13.0|\n|    max|                NA|             6987|            vietnamese|                NA|               411|             27100|                20|            14700|             14700|                   NA|                NA|                      NA|                          2715|                                          NA|                       8516859|                     3222.0|               31.0|\n+-------+------------------+-----------------+----------------------+------------------+------------------+------------------+------------------+-----------------+------------------+---------------------+------------------+------------------------+------------------------------+--------------------------------------------+------------------------------+---------------------------+-------------------+\n\n"
     ]
    }
   ],
   "source": [
    "mode_value=(df.groupBy(\"store_primary_category\").count().orderBy(\"count\",ascending=False).first()[0])\n",
    "df = df.fillna({\"store_primary_category\":mode_value})\n",
    "columns = [\n",
    "    'total_onshift_dashers',\n",
    "    'total_busy_dashers',\n",
    "    'total_outstanding_orders',\n",
    "    'estimated_store_to_consumer_driving_duration',\n",
    "    'estimated_non_prep_duration'\n",
    "]\n",
    "\n",
    "# Step 1: Calculate mean for each column\n",
    "means = df.select([mean(col(c)).alias(c) for c in columns]).collect()[0].asDict()\n",
    "\n",
    "# Step 2: Fill nulls with the respective mean values\n",
    "df_filled = df.fillna(means)\n",
    "df_filled.describe().show()"
   ]
  }
 ],
 "metadata": {
  "application/vnd.databricks.v1+notebook": {
   "computePreferences": null,
   "dashboards": [],
   "environmentMetadata": {
    "base_environment": "",
    "environment_version": "1"
   },
   "inputWidgetPreferences": null,
   "language": "python",
   "notebookMetadata": {
    "pythonIndentUnit": 4
   },
   "notebookName": "Delivery Duration Prediction",
   "widgets": {}
  }
 },
 "nbformat": 4,
 "nbformat_minor": 0
}